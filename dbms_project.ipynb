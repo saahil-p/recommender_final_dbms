{
 "cells": [
  {
   "cell_type": "code",
   "execution_count": null,
   "metadata": {
    "colab": {
     "base_uri": "https://localhost:8080/"
    },
    "id": "NZOMNuOqt-Hh",
    "outputId": "604e6527-c9fd-488c-a040-892b2ae71900"
   },
   "outputs": [],
   "source": [
    "import pandas as pd\n",
    "import numpy as np\n",
    "import nltk\n",
    "from nltk.stem import PorterStemmer\n",
    "from nltk.corpus import stopwords\n",
    "nltk.download('punkt')\n",
    "nltk.download('stopwords')\n",
    "from sklearn.feature_extraction.text import TfidfVectorizer\n",
    "from sklearn.metrics.pairwise import cosine_similarity"
   ]
  },
  {
   "cell_type": "code",
   "execution_count": null,
   "metadata": {
    "id": "Pnu5iV7ZuhK9"
   },
   "outputs": [],
   "source": [
    "courses_df = pd.read_csv('/Users/saahil/Desktop/College/Sem 5/DBMS Lab/Project/coursera_courses.csv')\n",
    "\n",
    "# job_df.head()\n",
    "\n",
    "job_df = pd.read_csv('/Users/saahil/Desktop/College/Sem 5/DBMS Lab/Project/job_data_filtered.csv')\n",
    "# courses_df.head()\n"
   ]
  },
  {
   "cell_type": "code",
   "execution_count": null,
   "metadata": {},
   "outputs": [],
   "source": [
    "job_df.head()"
   ]
  },
  {
   "cell_type": "code",
   "execution_count": null,
   "metadata": {},
   "outputs": [],
   "source": [
    "courses_df.head()"
   ]
  },
  {
   "cell_type": "code",
   "execution_count": null,
   "metadata": {
    "id": "zpKe-oHzuoZ6"
   },
   "outputs": [],
   "source": [
    "\n",
    "# Initialize the stemmer\n",
    "stemmer = PorterStemmer()\n",
    "\n",
    "stop_words = set(stopwords.words('english'))\n",
    "# Define a function to stem words in each course description\n",
    "def stem_text(text):\n",
    "    if isinstance(text, str):  # Check if the entry is a string\n",
    "        words = nltk.word_tokenize(text)\n",
    "        filtered_words = [word for word in words if word.lower() not in stop_words]\n",
    "        return ' '.join(stemmer.stem(word) for word in filtered_words)\n",
    "    else:\n",
    "        return \"\"  # Return an empty string if it's not a valid string\n",
    "\n",
    "\n",
    "# Apply the function to the course_description column\n",
    "courses_df['course_description_stemmed'] = courses_df['course_description'].apply(stem_text)\n",
    "\n",
    "courses_df.drop(columns = ['course_description'], inplace = True)"
   ]
  },
  {
   "cell_type": "code",
   "execution_count": null,
   "metadata": {
    "colab": {
     "base_uri": "https://localhost:8080/",
     "height": 452
    },
    "id": "pCOABrZ8wHP2",
    "outputId": "b897184b-e09a-4abf-ce19-52e8e24e984f"
   },
   "outputs": [],
   "source": [
    "courses_df.head()"
   ]
  },
  {
   "cell_type": "code",
   "execution_count": null,
   "metadata": {
    "id": "UH3k-jKfw3Tu"
   },
   "outputs": [],
   "source": [
    "# job_df.head()\n",
    "job_df['job_description'] = job_df['job_description'].apply(stem_text)"
   ]
  },
  {
   "cell_type": "code",
   "execution_count": null,
   "metadata": {
    "colab": {
     "base_uri": "https://localhost:8080/",
     "height": 328
    },
    "id": "0r3oitLzxCSz",
    "outputId": "38713bde-b84f-42e8-f31a-e7a8a9383213"
   },
   "outputs": [],
   "source": [
    "job_df.head()"
   ]
  },
  {
   "cell_type": "code",
   "execution_count": null,
   "metadata": {
    "id": "5h8Q6LRdxfe4"
   },
   "outputs": [],
   "source": [
    "def vectorise_text(df,col,lang):\n",
    "  tfidf_vectorizer = TfidfVectorizer(stop_words=lang)\n",
    "  tfidf_matrix = tfidf_vectorizer.fit_transform(df[col].fillna(''))\n",
    "  cosine_sim_matrix = cosine_similarity(tfidf_matrix, tfidf_matrix)\n",
    "  return cosine_sim_matrix"
   ]
  },
  {
   "cell_type": "code",
   "execution_count": null,
   "metadata": {
    "id": "aIe4BkKF0Eee"
   },
   "outputs": [],
   "source": [
    "course_desc_vectorised = vectorise_text(courses_df,'course_description_stemmed','english')\n",
    "job_desc_vectorised = vectorise_text(job_df,'job_description','english')"
   ]
  },
  {
   "cell_type": "code",
   "execution_count": null,
   "metadata": {},
   "outputs": [],
   "source": [
    "print(course_desc_vectorised)\n",
    "print(job_desc_vectorised)"
   ]
  },
  {
   "cell_type": "code",
   "execution_count": null,
   "metadata": {},
   "outputs": [],
   "source": [
    "tfidf_vectorizer = TfidfVectorizer(stop_words='english')\n",
    "tfidf_matrix = tfidf_vectorizer.fit_transform(courses_df['course_description_stemmed'].fillna(''))\n",
    "\n",
    "\n",
    "def recommend_courses(student_input, tfidf_matrix, courses_df):\n",
    "    # Transform the student input into a TF-IDF vector using the same vectorizer\n",
    "    student_input_vector = tfidf_vectorizer.transform([student_input])\n",
    "    \n",
    "    # Compute cosine similarity between the student input vector and all course descriptions\n",
    "    similarity_scores = cosine_similarity(student_input_vector, tfidf_matrix).flatten()\n",
    "    \n",
    "    # Get indices of the top 5 highest similarity scores\n",
    "    top_indices = similarity_scores.argsort()[-5:][::-1]\n",
    "    \n",
    "    print(top_indices)\n",
    "    # Retrieve the recommended courses\n",
    "    recommended_courses = courses_df.iloc[top_indices]\n",
    "    \n",
    "    return recommended_courses"
   ]
  },
  {
   "cell_type": "code",
   "execution_count": null,
   "metadata": {},
   "outputs": [],
   "source": [
    "student_input = \"I am interested in data science and machine learning\"\n",
    "\n",
    "# Get the top 5 recommended courses\n",
    "recommended_courses = recommend_courses(student_input, tfidf_matrix, courses_df)\n",
    "# print(recommended_courses[['course_title']])"
   ]
  },
  {
   "cell_type": "code",
   "execution_count": null,
   "metadata": {},
   "outputs": [],
   "source": []
  }
 ],
 "metadata": {
  "colab": {
   "provenance": []
  },
  "kernelspec": {
   "display_name": "Python 3 (ipykernel)",
   "language": "python",
   "name": "python3"
  },
  "language_info": {
   "codemirror_mode": {
    "name": "ipython",
    "version": 3
   },
   "file_extension": ".py",
   "mimetype": "text/x-python",
   "name": "python",
   "nbconvert_exporter": "python",
   "pygments_lexer": "ipython3",
   "version": "3.13.0"
  }
 },
 "nbformat": 4,
 "nbformat_minor": 1
}
